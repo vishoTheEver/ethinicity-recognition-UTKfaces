{
  "nbformat": 4,
  "nbformat_minor": 0,
  "metadata": {
    "colab": {
      "provenance": [],
      "authorship_tag": "ABX9TyPvnGIqwzOIQlfh6TcihDDY",
      "include_colab_link": true
    },
    "kernelspec": {
      "name": "python3",
      "display_name": "Python 3"
    },
    "language_info": {
      "name": "python"
    }
  },
  "cells": [
    {
      "cell_type": "markdown",
      "metadata": {
        "id": "view-in-github",
        "colab_type": "text"
      },
      "source": [
        "<a href=\"https://colab.research.google.com/github/vishoTheEver/ethinicity-recognition-UTKfaces/blob/main/main.ipynb\" target=\"_parent\"><img src=\"https://colab.research.google.com/assets/colab-badge.svg\" alt=\"Open In Colab\"/></a>"
      ]
    },
    {
      "cell_type": "markdown",
      "source": [
        "# Task #1: Baseline"
      ],
      "metadata": {
        "id": "ZF3joTdv53V2"
      }
    },
    {
      "cell_type": "code",
      "execution_count": null,
      "metadata": {
        "id": "Fs_HQLwy5G52"
      },
      "outputs": [],
      "source": []
    },
    {
      "cell_type": "markdown",
      "source": [
        "# Task #2: Relationship between Learning Rate and Performance"
      ],
      "metadata": {
        "id": "tg6XGCCB6BGm"
      }
    },
    {
      "cell_type": "code",
      "source": [],
      "metadata": {
        "id": "0GpMCGUr6Ibx"
      },
      "execution_count": null,
      "outputs": []
    },
    {
      "cell_type": "markdown",
      "source": [
        "# Task #3: Relationship between Batch Size and Performance"
      ],
      "metadata": {
        "id": "wnuQN6k76Jm4"
      }
    },
    {
      "cell_type": "code",
      "source": [],
      "metadata": {
        "id": "cNHE_3IS6R3Z"
      },
      "execution_count": null,
      "outputs": []
    },
    {
      "cell_type": "markdown",
      "source": [
        "# Task #4: Best Model"
      ],
      "metadata": {
        "id": "R1lWMFai6SU-"
      }
    }
  ]
}